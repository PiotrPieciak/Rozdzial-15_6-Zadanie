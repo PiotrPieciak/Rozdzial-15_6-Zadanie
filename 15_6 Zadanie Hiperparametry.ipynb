{
 "cells": [
  {
   "cell_type": "markdown",
   "id": "5cc685e3-b622-43c9-9233-66953e805791",
   "metadata": {},
   "source": [
    "# 15.6 Zadanie - Hiperparametry"
   ]
  },
  {
   "cell_type": "markdown",
   "id": "0b53412d-0e6f-478a-b188-cdec6fc7611f",
   "metadata": {},
   "source": [
    "#### Import niezbędnych bibliotek"
   ]
  },
  {
   "cell_type": "code",
   "execution_count": 3,
   "id": "aec92370-0114-497a-9e26-5823e6f500a6",
   "metadata": {},
   "outputs": [],
   "source": [
    "# manipulacja danymi\n",
    "import numpy as np\n",
    "import pandas as pd\n",
    "\n",
    "# wizualizacja\n",
    "import matplotlib.pyplot as plt\n",
    "import seaborn as sns\n",
    "\n",
    "# podział danych na zbiory treningowe/walidacyjne/testowe\n",
    "from sklearn.model_selection import train_test_split, GridSearchCV\n",
    "\n",
    "# budowa Pipeline\n",
    "from sklearn.pipeline import FeatureUnion, Pipeline\n",
    "from sklearn.base import BaseEstimator, TransformerMixin\n",
    "from sklearn.compose import ColumnTransformer\n",
    "\n",
    "# Preprocessing\n",
    "from sklearn.impute import SimpleImputer\n",
    "from sklearn.preprocessing import OneHotEncoder, StandardScaler, PolynomialFeatures, PowerTransformer\n",
    "\n",
    "# redukcja wymiarowości\n",
    "from sklearn.decomposition import PCA\n",
    "\n",
    "# model\n",
    "from sklearn.linear_model import LogisticRegression\n",
    "\n",
    "# ewaluacja\n",
    "from sklearn.metrics import classification_report, confusion_matrix, roc_curve, f1_score, roc_auc_score"
   ]
  },
  {
   "cell_type": "markdown",
   "id": "12f55c01-fc4f-458b-ad5e-53d79c589c8d",
   "metadata": {},
   "source": [
    "#### Przygotowanie danych, rozdzielenie ich na zbiory treningowe i testowe"
   ]
  },
  {
   "cell_type": "code",
   "execution_count": 5,
   "id": "71d728e8-89a0-4843-90f9-1d4aba173501",
   "metadata": {},
   "outputs": [],
   "source": [
    "penguins = pd.read_csv('penguins.csv')\n",
    "num_features = ['CulmenLength','CulmenDepth','FlipperLength','BodyMass']\n",
    "target = 'Species'\n",
    "X = penguins.drop(['Species'], axis=1).copy()\n",
    "y = penguins['Species'].copy()\n",
    "X_train, X_test, y_train, y_test = train_test_split(X, y, test_size=0.25, random_state=42, stratify=y)"
   ]
  },
  {
   "cell_type": "markdown",
   "id": "21b75721-011c-4907-b8a8-399d3b9807cf",
   "metadata": {},
   "source": [
    "#### Przygotowanie danych numerycznych "
   ]
  },
  {
   "cell_type": "code",
   "execution_count": 7,
   "id": "0fae1c55-e47a-418f-b4ad-d138d71b7331",
   "metadata": {},
   "outputs": [],
   "source": [
    "num_preparation = Pipeline(steps=[\n",
    "    ('fill_missings', SimpleImputer(strategy='mean')),\n",
    "    ('polynomial_features', PolynomialFeatures(degree=3)),\n",
    "    ('scaler_1', StandardScaler()),\n",
    "    ('pca', PCA(n_components=0.95)),\n",
    "    ('scaler_2', StandardScaler())\n",
    "])"
   ]
  },
  {
   "cell_type": "markdown",
   "id": "90828a6c-7231-4832-80cc-abebec366d3c",
   "metadata": {},
   "source": [
    "#### Transformer dla wartości numerycznych"
   ]
  },
  {
   "cell_type": "markdown",
   "id": "65131a57-124b-4cf4-8b9e-cf33331306e5",
   "metadata": {},
   "source": [
    "###### data_preparation = ColumnTransformer(transformers=["
   ]
  },
  {
   "cell_type": "code",
   "execution_count": 10,
   "id": "916943d5-cc27-4c1b-abc6-2334dffbbac2",
   "metadata": {},
   "outputs": [],
   "source": [
    "data_preparation = ColumnTransformer(transformers=[\n",
    "    ('numeric_preprocessing', num_preparation, num_features)\n",
    "])"
   ]
  },
  {
   "cell_type": "markdown",
   "id": "ae19d465-97b6-405b-b54a-19ed88b948a9",
   "metadata": {},
   "source": [
    "#### Tworzenie pipeline dla modelu z hiperparametrami"
   ]
  },
  {
   "cell_type": "code",
   "execution_count": 12,
   "id": "50721d46-f24d-453e-ae08-70a440f5bab9",
   "metadata": {},
   "outputs": [],
   "source": [
    "model_pipeline_hyper = Pipeline(steps=[('preprocessor', data_preparation),\n",
    "                                    ('model', LogisticRegression(max_iter=10000))])"
   ]
  },
  {
   "cell_type": "markdown",
   "id": "c2a7ca43-3b5a-4ff5-bcb3-098d3cad38cb",
   "metadata": {},
   "source": [
    "#### Określenie parametrów dla grid search"
   ]
  },
  {
   "cell_type": "code",
   "execution_count": 14,
   "id": "190d77f3-f2a5-43a2-99f4-b7ad756cf2ae",
   "metadata": {},
   "outputs": [],
   "source": [
    "params = {\n",
    "    'preprocessor__numeric_preprocessing__fill_missings__strategy': ['mean', 'median'],\n",
    "    'preprocessor__numeric_preprocessing__polynomial_features__degree': [1, 2, 3, 4],\n",
    "    'preprocessor__numeric_preprocessing__pca__n_components': [ 0.85, 0.90, 0.95, 0.99, 0.99999],\n",
    "    'model__C': np.logspace(-4, 4, 50)\n",
    "}"
   ]
  },
  {
   "cell_type": "markdown",
   "id": "7ae9d71d-b13e-4eda-bd53-7009d88f5c26",
   "metadata": {},
   "source": [
    "#### GridSearch dla znalezienia optymalnych wartości hiperparametrów i wytrenowanie modelu z tymi hipermarametrami"
   ]
  },
  {
   "cell_type": "code",
   "execution_count": 16,
   "id": "9394119f-80fb-4425-91ae-fef76f797d03",
   "metadata": {},
   "outputs": [
    {
     "name": "stdout",
     "output_type": "stream",
     "text": [
      "Fitting 10 folds for each of 2000 candidates, totalling 20000 fits\n",
      "Wybrane hiperparametry:  {'model__C': 16.768329368110066, 'preprocessor__numeric_preprocessing__fill_missings__strategy': 'mean', 'preprocessor__numeric_preprocessing__pca__n_components': 0.9, 'preprocessor__numeric_preprocessing__polynomial_features__degree': 1}\n"
     ]
    }
   ],
   "source": [
    "grid_search = GridSearchCV(model_pipeline_hyper, params, cv=10, n_jobs=-1, verbose=10, scoring='f1_macro')\n",
    "grid_search.fit(X_train, y_train)\n",
    "print('Wybrane hiperparametry: ', grid_search.best_params_)\n",
    "model_hyper = grid_search.best_estimator_"
   ]
  },
  {
   "cell_type": "markdown",
   "id": "2f3742c6-8478-441b-87bc-2d3ea01ef69f",
   "metadata": {},
   "source": [
    "#### Wizualizacja dla modelu z hiperparametrami oraz oblicznie F1_score dla zbiorów treningowego i testowego"
   ]
  },
  {
   "cell_type": "code",
   "execution_count": 18,
   "id": "628fdebf-95bf-4f03-8625-7c2753e10d36",
   "metadata": {},
   "outputs": [
    {
     "data": {
      "image/png": "[encoded data removed]",
      "text/plain": [
       "<Figure size 640x480 with 2 Axes>"
      ]
     },
     "metadata": {},
     "output_type": "display_data"
    },
    {
     "name": "stdout",
     "output_type": "stream",
     "text": [
      "LogisticRegression F1_score Train: 0.9961\n",
      "LogisticRegression F1_score Test: 0.9884\n"
     ]
    }
   ],
   "source": [
    "predictions_test = model_hyper.predict(X_test)\n",
    "predictions_train = model_hyper.predict(X_train)\n",
    "cm = confusion_matrix(y_test, predictions_test)\n",
    "ax = sns.heatmap(cm, annot=True, cmap='Blues', fmt='.0f')\n",
    "ax.set_title('Confusion Matrix\\n\\n')\n",
    "ax.set_xlabel('\\nPredicted Values')\n",
    "ax.set_ylabel('Actual Values ')\n",
    "plt.show()\n",
    "print(\"LogisticRegression F1_score Train:\", f1_score(y_train, predictions_train, average='micro').round(4))\n",
    "print(\"LogisticRegression F1_score Test:\", f1_score(y_test, predictions_test, average='micro').round(4))\n"
   ]
  },
  {
   "cell_type": "markdown",
   "id": "70751841-f576-4270-8346-1e8430c0495b",
   "metadata": {},
   "source": [
    "#### PODSUMOWANIE - Udało się znaleźć hiperparametry dla naszego modelu i wytrenować go na tych parametrach. Dla wypełniania pustych wpisów wybrano metodę średniej, optymalny stopień wielomianyu to 1, wartość PCA to 0.9, natomiast optymalna wartość model__C to 16.7. Wynik dla zbioru testowego nie poprawił się porównując go do zadania 15.5."
   ]
  },
  {
   "cell_type": "code",
   "execution_count": null,
   "id": "2483fa51-5e88-4d99-89c5-73de904ee4da",
   "metadata": {},
   "outputs": [],
   "source": []
  }
 ],
 "metadata": {
  "kernelspec": {
   "display_name": "Python 3 (ipykernel)",
   "language": "python",
   "name": "python3"
  },
  "language_info": {
   "codemirror_mode": {
    "name": "ipython",
    "version": 3
   },
   "file_extension": ".py",
   "mimetype": "text/x-python",
   "name": "python",
   "nbconvert_exporter": "python",
   "pygments_lexer": "ipython3",
   "version": "3.12.3"
  }
 },
 "nbformat": 4,
 "nbformat_minor": 5
}
